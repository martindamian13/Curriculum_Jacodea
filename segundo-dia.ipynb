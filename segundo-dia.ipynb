{
 "cells": [
  {
   "attachments": {},
   "cell_type": "markdown",
   "metadata": {},
   "source": [
    "# Dia 2"
   ]
  },
  {
   "attachments": {},
   "cell_type": "markdown",
   "metadata": {},
   "source": [
    "## Breve repaso del dia anterior"
   ]
  },
  {
   "attachments": {},
   "cell_type": "markdown",
   "metadata": {},
   "source": [
    "## Condicionales\n",
    "### Definición - 15m\n",
    "\n",
    "\n",
    "\n",
    "✍🏻 Ya conocemos el flujo de python, línea por línea. Condicionar permite dividir el flujo de un programa en diferentes caminos.\n",
    "\n",
    "✍🏻 Las condicionales nos permiten validar una condicion en especifico para asi permitir o denegar que python ejecute una instruccion o pase a la siguente. \n",
    "\n",
    "--------------------------------------------\n",
    "\n",
    "✍🏻  Palabras en python, que nos ayudan a hacer esas verificaciones y son las siguientes:\n",
    "\n",
    "\n",
    "**Vamos a ver 3:**\n",
    "\n",
    "✅ **Sentencia if (si):** El if se ejecuta siempre que la expresión que comprueba devuelva True\n",
    "\n",
    "\n",
    "✅ **Sentencia elif (sino si):** Se encadena a un if u otro elif para comprobar múltiples condiciones, siempre que las anteriores no se ejecuten\n",
    "\n",
    "\n",
    "✅ **Sentencia else (sino):** Se encadena a un if para comprobar el caso contrario (en el que no se cumple la condición)\n",
    "\n",
    "\n",
    "_elif not - mencionar viernes_\n",
    "\n",
    "--------------------------------------------\n",
    "\n",
    "\n",
    "🔗 Link de la pagina: https://www.mclibre.org/consultar/python/lecciones/python-if-else.html \n",
    "\n",
    "🔗 Link interesante: https://docs.hektorprofe.net/python/controlando-el-flujo/condiciones/"
   ]
  },
  {
   "cell_type": "code",
   "execution_count": null,
   "metadata": {},
   "outputs": [],
   "source": [
    "# Mostrar ejemplo con algo practico."
   ]
  },
  {
   "cell_type": "code",
   "execution_count": null,
   "metadata": {},
   "outputs": [],
   "source": [
    "# Ejemplo de usuario y contrasenha del computador \n",
    "\n",
    "comando_que_ingresa_usuario = input(\"Ingrese la contrasenha\") \n",
    "contrasenha_correcta = \"entrar\"\n",
    "\n",
    "if comando_que_ingresa_usuario == contrasenha_correcta: #if es si \n",
    "    print(\"Bienvenido a la computadora\")\n",
    "\n",
    "else: #es sino \n",
    "    print('Contrasenha erronea, ingrese de nuevo') "
   ]
  },
  {
   "attachments": {},
   "cell_type": "markdown",
   "metadata": {},
   "source": [
    "# Dos condicionales a la vez: operadores logicos \n",
    "\n",
    "\n",
    "✅ **and:** Verdadero sólo si los dos elementos son verdaderos\n",
    "\n",
    "✅ **or**: Verdadero si cualquiera de los elementos es verdadero\n",
    "\n",
    "✅ **not:** Cambia el valor de Falso a Verdadero y viceversa"
   ]
  },
  {
   "attachments": {},
   "cell_type": "markdown",
   "metadata": {},
   "source": [
    "## Bucles condicionales - 50m\n",
    "\n",
    "### Bucles infinitos y su utilidad - 10m\n",
    "\n",
    "\n",
    "Un bucle while permite repetir la ejecución de un grupo de instrucciones mientras se cumpla una condición (es decir, mientras la condición tenga el valor True). Al momento que la condicion deje de ser cierta el bucle va parar.\n",
    "\n",
    "Cuando la condicion se vuelve falsa se termina el programa, la variable de control va cambiando\n",
    "\n",
    "Pagina para explicar el bucle while https://www.mclibre.org/consultar/python/lecciones/python-while.html#:~:text=El%20bucle%20while,-Un%20bucle%20while&text=Python%20eval%C3%BAa%20la%20condici%C3%B3n%3A,mientras%20la%20condici%C3%B3n%20sea%20cierta \n",
    "\n",
    "\n",
    "\n",
    "\n",
    "Un bucle infinito sucede cuando la condicion siempre es cierta y por lo tanto el bucle no termina de ejecutarse. \"Break\" es una palabra reservada que nos permite salir de un bucle."
   ]
  },
  {
   "cell_type": "code",
   "execution_count": null,
   "metadata": {},
   "outputs": [],
   "source": [
    "# explicar palabras reservadas, CASO DE LAS CONTRASENHAS DE FACEBOOK \n",
    "# escribir un programa \n",
    "\n",
    "numero = 1\n",
    "\n",
    "while True:\n",
    "    numero_ingresado = int(input(\"Introduce un numero\"))\n",
    "    if numero_ingresado == numero:\n",
    "        print(\"El numero es correcto.\")\n",
    "        break\n",
    "    else:\n",
    "        print(\"El numero es incorrecto.\")"
   ]
  },
  {
   "cell_type": "code",
   "execution_count": null,
   "metadata": {},
   "outputs": [],
   "source": [
    "# #cuando la condicion se vuelve falsa se termina el programa, la variable de control va cambiando \n",
    "\n",
    "i = 1 \n",
    "while i <= 3:\n",
    "    print(i)\n",
    "    i = i + 1\n",
    "print(\"Programa terminado\")"
   ]
  },
  {
   "attachments": {},
   "cell_type": "markdown",
   "metadata": {},
   "source": [
    "### ✍🏻 Jumps (saltos)\n",
    "\n",
    "Son formas de \"salir\" de un bucle (loop). Utiliza palabras reservadas como return, break o continue, pass. \n",
    "\n",
    "✅ **break**, sirve para romper la condicion del ciclo while\n",
    "\n",
    "\n",
    "✅ **continue**\n",
    "\n",
    "\n",
    "✅ **return**\n",
    "\n",
    "✅ **pass**"
   ]
  },
  {
   "attachments": {},
   "cell_type": "markdown",
   "metadata": {},
   "source": [
    "# Challenge"
   ]
  },
  {
   "attachments": {},
   "cell_type": "markdown",
   "metadata": {},
   "source": [
    "## Bucles iterativos (for) \n",
    "\n",
    "### Definición - 15m\n",
    "\n",
    "✍🏻 **Iterar:** significa realizar un proceso repetidas veces con el fin de llegar al resultado deseado.\n",
    "\n",
    "✍🏻 **Iteraciones:** una acción repetida una cierta cantidad de veces, pero en cada repetición se tiene en cuenta el valor anterior.\n",
    "\n",
    "✍🏻 Cuando queremos repetir una acción una cierta cantidad de veces, podemos utilizar un bucle iterativo.\n",
    "\n",
    "**Entonces:** \n",
    "\n",
    "✅ El bucle for se utiliza para recorrer los elementos de un objeto iterable (lista, tupla, conjunto, diccionario, …) y ejecutar un bloque de código. En cada paso de la iteración se tiene en cuenta a un único elemento del objeto iterable, sobre el cuál se pueden aplicar una serie de operaciones.\n",
    "\n",
    "Para eso podríamos usar un generador de iterables llamado \"range\", de la siguiente forma:\n",
    "\n",
    "------------------------\n",
    "\n",
    "🔗 Bucle iterativo for: https://j2logo.com/bucle-for-en-python/"
   ]
  },
  {
   "attachments": {},
   "cell_type": "markdown",
   "metadata": {},
   "source": [
    "## Introduccion a Librerias\n",
    "\n",
    "### Librerias\n",
    "\n",
    "### Gestor de paquetes"
   ]
  },
  {
   "attachments": {},
   "cell_type": "markdown",
   "metadata": {},
   "source": [
    "## 🐶🐱 Programación orientada a objetos\n",
    "\n",
    "Python también nos permite representar cosas del mundo real, más fielmente por medio de estructuras de datos llamadas **objetos**. Por eso podemos ver a los objetos como agrupaciones de datos y los métodos que operan en dichos datos.\n",
    "\n",
    "Tanto sus atributos (características y propiedades) como sus métodos (funciones que nos permiten interactuar con el objeto) se definen en una `clase`.\n",
    "\n",
    "\n",
    "Esta `clase` es como una plantilla para los objetos que queremos crear, como un molde.\n",
    "\n",
    "\n",
    "\n",
    "Luego ese molde se utiliza para crear la cantidad que necesitemos de los `objetos` de esa `clase`.\n",
    "\n",
    "\n",
    "Por ejemplo, podemos representar a una persona con propiedades como nombre, edad, género, etc. y los comportamientos de dicha persona como caminar, cantar, comer, etc. De la misma manera podemos representar unos audífonos con propiedades como su marca, tamaño, color, etc. y sus comportamientos como reproducir música, pausar y avanzar a la siguiente canción.\n",
    "\n",
    "Link: https://j2logo.com/python/tutorial/programacion-orientada-a-objetos/#:~:text=Python%20es%20un%20lenguaje%20orientado%20a%20objetos,-S%C3%AD%2C%20soy%20un&text=Cuando%20creas%20una%20variable%20y,Y%20as%C3%AD%20podr%C3%ADa%20seguir%20indefinidamente \n",
    "\n",
    "Molde de Galleta https://kinsta.com/es/blog/programacion-orientada-objetos-python/#:~:text=orientada%20a%20objetos.-,%C2%BFQu%C3%A9%20es%20la%20programaci%C3%B3n%20orientada%20a%20objetos%20en%20Python%3F,la%20base%20para%20resolver%20problemas.\n",
    "\n",
    "---------------------------------------------------------------\n",
    "\n",
    "Python nos permite representar cosas del mundo real por medio de estructuras de datos llamadas objetos. \n",
    "\n",
    "\n",
    "✅ Atributos = caracteristicas\n",
    "\n",
    "\n",
    "✅ Atributo de clase = ejemplo mascotas son mamiferos  \n",
    "\n",
    "\n",
    "✅ Atributo de instancia = propios de un objeto en especifico"
   ]
  },
  {
   "cell_type": "code",
   "execution_count": null,
   "metadata": {},
   "outputs": [],
   "source": [
    "class Mascota: # crear mi clase Mascota por medio de la palabra reservada class \n",
    "    ojos = 2 #atributo de clase\n",
    "    boca = 1 #atributo de clase \n",
    "#metodo constructor __init__ y un parametro especial self \n",
    "    def __init__(self, nombre, raza, color): # inicializa la clase y le asignamos atributos de instancia \n",
    "        self.nombre = nombre \n",
    "        self.raza = raza \n",
    "        self.color = color \n",
    "#crear mi objeto \n",
    "\n",
    "mi_gato = Mascota(\"michi\",\"siames\",\"blanco\") #creo mi objeto y le paso los atributos especificos del obj. instancia\n",
    "mi_perro = Mascota(\"rex\", \"labrador\", \"amarillo\") #creo mi objeto y le paso los atributos especificos del obj. instancia\n",
    "\n",
    "print(mi_gato.nombre)\n",
    "print(mi_gato.ojos)\n",
    "print(mi_gato.raza)\n",
    "\n",
    "print(mi_perro.color)\n",
    "print(mi_perro.raza)\n",
    "\n",
    "print(mi_perro)"
   ]
  },
  {
   "attachments": {},
   "cell_type": "markdown",
   "metadata": {},
   "source": [
    "## 🔴🟠🟡 Definiendo atributos\n",
    "\n",
    "✍🏻 Es importante distinguir que existen dos tipos de atributos:\n",
    "\n",
    "✍🏻 **Atributos de clase:** Son atributos cuyos valores definen a la clase, por lo tanto serán comunes para todos los objetos. (Mostrar el que ya teníamos arriba)\n",
    "\n",
    "✍🏻 **Atributos de instancia:** Son atributos cuyos valores son específicos de los objetos creados (la instancia). En nuestro caso, de ambas mascotas tiene el atributo `nombre`, pero cada una tiene un valor diferente, que se define al crear el objeto. (Mostrar los de instancia)"
   ]
  },
  {
   "cell_type": "code",
   "execution_count": null,
   "metadata": {},
   "outputs": [],
   "source": [
    "class Mascota:\n",
    "    ojos = 2\n",
    "\n",
    "    def __init__(self, nombre):\n",
    "        self.nombre = nombre\n",
    "\n",
    "mi_mascota = Mascota(\"Oliver\")\n",
    "# mi_otra_mascota = Mascota(\"Oliver\")\n",
    "\n",
    "print(mi_mascota.nombre, mi_mascota.ojos)\n",
    "# print(mi_otra_mascota.nombre, mi_otra_mascota.ojos)\n",
    "\n",
    "#otro ejemplo de clase \n",
    "\n",
    "class Pinguino:\n",
    "    familia = \"Animalia\"\n",
    "    especie = \"aves\"\n",
    "    def __init__(self, nombre):\n",
    "        self.nombre = nombre \n",
    "\n",
    "mi_pinguino = Pinguino(\"Pengu\")\n",
    "\n",
    "print(mi_pinguino.familia) \n",
    "print(mi_pinguino.especie)"
   ]
  },
  {
   "attachments": {},
   "cell_type": "markdown",
   "metadata": {},
   "source": [
    "## Challenge \n",
    "\n",
    "Crear dos class de animales que tengan atributos de clase y de instancia.\n",
    "\n",
    "- Atributos de clase: `especie`.\n",
    "- Atributos de instancia: `nombre` & `color`.\n",
    "Luego, crear nuevos objetos a partir de las nuevas class. Imprimir el nombre y el color de los animales en una frase que diga: \"Me llamo `{nombre}` y soy un ave de color `{color}`\"."
   ]
  },
  {
   "attachments": {},
   "cell_type": "markdown",
   "metadata": {},
   "source": [
    "## 🏃🏻‍♂️🏃🏻‍♀️ Definiendo métodos\n",
    "En realidad cuando usamos `__init__` anteriormente ya estábamos definiendo un método, solo que uno especial. Uno que se ejecuta al momento de crear un objeto. A continuación vamos a ver como definir métodos que le den alguna funcionalidad interesante a nuestra clase\n",
    "\n",
    "✅ Metodos le dan funcionalidad al objeto. Por ello decimos que un metodo es una funcion de un objeto. "
   ]
  },
  {
   "cell_type": "code",
   "execution_count": null,
   "metadata": {},
   "outputs": [],
   "source": [
    "# Primer ejemplo \n",
    "\n",
    "class Mascota:\n",
    "    ojos = 2 #atributo de clase \n",
    "\n",
    "    def __init__(self, nombre): #init inicializa la clase atributo de instancia \n",
    "        self.nombre = nombre \n",
    "    #funcion sin definir parametros y argumentos \n",
    "\n",
    "    def caminar(self): #funcion a la que no le pasamos argumentos --> metodo = funcionalidades \n",
    "        print(\"Estoy caminando\") # imprimir Estoy caminando \n",
    "    #funcion definiendo con parametros y argumentos \n",
    "\n",
    "    def comer(self, kg_de_comida, comida): # --> metodo = funcionalidades  \n",
    "        print(\"Comi\",  kg_de_comida, \"kg de \" + comida)\n",
    "\n",
    "mi_mascota_gato = Mascota(\"Paco\") # creando el objeto, mi_mascota_gato \n",
    "\n",
    "mi_mascota_gato.caminar() #accedemos al metodo caminar \n",
    "print(mi_mascota_gato.ojos)\n",
    "mi_mascota_gato.comer(2, \"purina\") # le pase los argumentos a la funcion comer "
   ]
  },
  {
   "cell_type": "code",
   "execution_count": null,
   "metadata": {},
   "outputs": [],
   "source": [
    "# Otro ejemplo \n",
    "\n",
    "class Mascota:\n",
    "    ojos = 2\n",
    "\n",
    "    def __init__(self, nombre):\n",
    "        self.nombre = nombre\n",
    "    \n",
    "\n",
    "    def caminar(self):\n",
    "        print(\"Estoy caminando\")\n",
    "\n",
    "    def dormir(self, horas):\n",
    "        print(f\"zzZzZzZz, {horas} horas\")\n",
    "\n",
    "    def comer(self, kg_de_comida, comida):\n",
    "        print(\"Comí \" + kg_de_comida + \" Kg de \" + comida)\n",
    "\n",
    "\n",
    "mi_mascota = Mascota(\"Paco\")\n",
    "\n",
    "'''Para crear un objeto de una clase determinada, es decir, instanciar una clase, se usa el nombre de la clase y a continuación se añaden paréntesis (como si se llamara a una función).'''\n",
    "\n",
    "mi_mascota.dormir(7)\n",
    "# mi_otra_mascota = Mascota(\"Firulais\")\n",
    "\n",
    "print(mi_mascota.ojos, mi_mascota.nombre)\n",
    "# print(mi_otra_mascota.nombre, mi_otra_mascota.ojos)"
   ]
  },
  {
   "attachments": {},
   "cell_type": "markdown",
   "metadata": {},
   "source": [
    "## Challenge\n",
    "Crear dos métodos por animal, que sea hablar y moverse.\n",
    "\n",
    "En el método hablar, imprimir: \"Cuando hablo, digo X\".\n",
    "En el método mover, imprimir: \"Cuando me muevo, hago X\".\n",
    "\n",
    "X debe ser algo específico de ese animal"
   ]
  }
 ],
 "metadata": {
  "language_info": {
   "name": "python"
  },
  "orig_nbformat": 4
 },
 "nbformat": 4,
 "nbformat_minor": 2
}
